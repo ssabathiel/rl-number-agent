<<<<<<< HEAD:src/TestEnvironment.ipynb
{"nbformat":4,"nbformat_minor":5,"metadata":{"kernelspec":{"display_name":"Python 3","language":"python","name":"python3"},"language_info":{"codemirror_mode":{"name":"ipython","version":3},"file_extension":".py","mimetype":"text/x-python","name":"python","nbconvert_exporter":"python","pygments_lexer":"ipython3","version":"3.7.9"},"colab":{"name":"TestEnvironment.ipynb","provenance":[]}},"cells":[{"cell_type":"code","metadata":{"colab":{"base_uri":"https://localhost:8080/"},"id":"rZzV33ueLKku","executionInfo":{"status":"ok","timestamp":1617730691429,"user_tz":-120,"elapsed":1110,"user":{"displayName":"Flavio Petruzzellis","photoUrl":"https://lh3.googleusercontent.com/a-/AOh14GgMgmuRcKe0MWSqlRzEDC-qfwT578tEt9iJ05aYGg=s64","userId":"10204525749963004399"}},"outputId":"04ec4fac-155f-40a4-e99f-3f9937b0431a"},"source":["from google.colab import drive\n","drive.mount('/content/drive')\n","%cd drive/MyDrive/Unipd/Tesi/counting-agents/src/"],"id":"rZzV33ueLKku","execution_count":16,"outputs":[{"output_type":"stream","text":["Drive already mounted at /content/drive; to attempt to forcibly remount, call drive.mount(\"/content/drive\", force_remount=True).\n","[Errno 2] No such file or directory: 'drive/MyDrive/Unipd/Tesi/counting-agents/src/'\n","/content/drive/MyDrive/Unipd/Tesi/counting-agents/src\n"],"name":"stdout"}]},{"cell_type":"code","metadata":{"id":"loaded-coaching","executionInfo":{"status":"ok","timestamp":1617730691431,"user_tz":-120,"elapsed":1106,"user":{"displayName":"Flavio Petruzzellis","photoUrl":"https://lh3.googleusercontent.com/a-/AOh14GgMgmuRcKe0MWSqlRzEDC-qfwT578tEt9iJ05aYGg=s64","userId":"10204525749963004399"}}},"source":["from SingleAgent import SingleRLAgent "],"id":"loaded-coaching","execution_count":17,"outputs":[]},{"cell_type":"code","metadata":{"id":"adopted-effectiveness"},"source":["%run SingleAgent.py\n","%run utils.py"],"id":"adopted-effectiveness","execution_count":null,"outputs":[]},{"cell_type":"code","metadata":{"id":"greater-landscape","executionInfo":{"status":"ok","timestamp":1617730703826,"user_tz":-120,"elapsed":782,"user":{"displayName":"Flavio Petruzzellis","photoUrl":"https://lh3.googleusercontent.com/a-/AOh14GgMgmuRcKe0MWSqlRzEDC-qfwT578tEt9iJ05aYGg=s64","userId":"10204525749963004399"}}},"source":["agent_params = {\n","    'max_objects': 4,\n","    'obs_dim': 4,\n","}\n","\n","agent = SingleRLAgent(agent_params)"],"id":"greater-landscape","execution_count":18,"outputs":[]},{"cell_type":"code","metadata":{"id":"8ttcThSGN9Jc"},"source":["from PIL import Image"],"id":"8ttcThSGN9Jc","execution_count":null,"outputs":[]},{"cell_type":"code","metadata":{"colab":{"base_uri":"https://localhost:8080/"},"id":"3l8h3gHxOisS","executionInfo":{"status":"ok","timestamp":1617730732019,"user_tz":-120,"elapsed":1105,"user":{"displayName":"Flavio Petruzzellis","photoUrl":"https://lh3.googleusercontent.com/a-/AOh14GgMgmuRcKe0MWSqlRzEDC-qfwT578tEt9iJ05aYGg=s64","userId":"10204525749963004399"}},"outputId":"7c59f085-4283-4621-a806-9e16fc79b924"},"source":["agent.all_actions_dict_inv"],"id":"3l8h3gHxOisS","execution_count":20,"outputs":[{"output_type":"execute_result","data":{"text/plain":["{0: 0,\n"," 1: 1,\n"," 2: 2,\n"," 3: 3,\n"," 4: 4,\n"," 5: 5,\n"," 6: 6,\n"," 7: 7,\n"," 'down': 4,\n"," 'larger': 6,\n"," 'left': 1,\n"," 'mod_point': 0,\n"," 'right': 2,\n"," 'smaller': 7,\n"," 'submit': 5,\n"," 'up': 3}"]},"metadata":{"tags":[]},"execution_count":20}]},{"cell_type":"code","metadata":{"colab":{"base_uri":"https://localhost:8080/","height":305},"id":"3JdfOLQWOMWh","executionInfo":{"status":"error","timestamp":1617730227579,"user_tz":-120,"elapsed":786,"user":{"displayName":"Flavio Petruzzellis","photoUrl":"https://lh3.googleusercontent.com/a-/AOh14GgMgmuRcKe0MWSqlRzEDC-qfwT578tEt9iJ05aYGg=s64","userId":"10204525749963004399"}},"outputId":"988f9aa6-948e-49ef-ce5e-37e018ffd353"},"source":["img_height=200\n","Image.fromarray(agent.action*255)#.resize( (int(img_height/4),img_height), resample=0)"],"id":"3JdfOLQWOMWh","execution_count":null,"outputs":[{"output_type":"error","ename":"IndexError","evalue":"ignored","traceback":["\u001b[0;31m---------------------------------------------------------------------------\u001b[0m","\u001b[0;31mIndexError\u001b[0m                                Traceback (most recent call last)","\u001b[0;32m<ipython-input-13-bb9c64246b9d>\u001b[0m in \u001b[0;36m<module>\u001b[0;34m()\u001b[0m\n\u001b[1;32m      1\u001b[0m \u001b[0mimg_height\u001b[0m\u001b[0;34m=\u001b[0m\u001b[0;36m200\u001b[0m\u001b[0;34m\u001b[0m\u001b[0;34m\u001b[0m\u001b[0m\n\u001b[0;32m----> 2\u001b[0;31m \u001b[0mImage\u001b[0m\u001b[0;34m.\u001b[0m\u001b[0mfromarray\u001b[0m\u001b[0;34m(\u001b[0m\u001b[0magent\u001b[0m\u001b[0;34m.\u001b[0m\u001b[0maction\u001b[0m\u001b[0;34m*\u001b[0m\u001b[0;36m255\u001b[0m\u001b[0;34m)\u001b[0m\u001b[0;31m#.resize( (int(img_height/4),img_height), resample=0)\u001b[0m\u001b[0;34m\u001b[0m\u001b[0;34m\u001b[0m\u001b[0m\n\u001b[0m","\u001b[0;32m/usr/local/lib/python3.7/dist-packages/PIL/Image.py\u001b[0m in \u001b[0;36mfromarray\u001b[0;34m(obj, mode)\u001b[0m\n\u001b[1;32m   2726\u001b[0m         \u001b[0;32mraise\u001b[0m \u001b[0mValueError\u001b[0m\u001b[0;34m(\u001b[0m\u001b[0;34m\"Too many dimensions: %d > %d.\"\u001b[0m \u001b[0;34m%\u001b[0m \u001b[0;34m(\u001b[0m\u001b[0mndim\u001b[0m\u001b[0;34m,\u001b[0m \u001b[0mndmax\u001b[0m\u001b[0;34m)\u001b[0m\u001b[0;34m)\u001b[0m\u001b[0;34m\u001b[0m\u001b[0;34m\u001b[0m\u001b[0m\n\u001b[1;32m   2727\u001b[0m \u001b[0;34m\u001b[0m\u001b[0m\n\u001b[0;32m-> 2728\u001b[0;31m     \u001b[0msize\u001b[0m \u001b[0;34m=\u001b[0m \u001b[0mshape\u001b[0m\u001b[0;34m[\u001b[0m\u001b[0;36m1\u001b[0m\u001b[0;34m]\u001b[0m\u001b[0;34m,\u001b[0m \u001b[0mshape\u001b[0m\u001b[0;34m[\u001b[0m\u001b[0;36m0\u001b[0m\u001b[0;34m]\u001b[0m\u001b[0;34m\u001b[0m\u001b[0;34m\u001b[0m\u001b[0m\n\u001b[0m\u001b[1;32m   2729\u001b[0m     \u001b[0;32mif\u001b[0m \u001b[0mstrides\u001b[0m \u001b[0;32mis\u001b[0m \u001b[0;32mnot\u001b[0m \u001b[0;32mNone\u001b[0m\u001b[0;34m:\u001b[0m\u001b[0;34m\u001b[0m\u001b[0;34m\u001b[0m\u001b[0m\n\u001b[1;32m   2730\u001b[0m         \u001b[0;32mif\u001b[0m \u001b[0mhasattr\u001b[0m\u001b[0;34m(\u001b[0m\u001b[0mobj\u001b[0m\u001b[0;34m,\u001b[0m \u001b[0;34m\"tobytes\"\u001b[0m\u001b[0;34m)\u001b[0m\u001b[0;34m:\u001b[0m\u001b[0;34m\u001b[0m\u001b[0;34m\u001b[0m\u001b[0m\n","\u001b[0;31mIndexError\u001b[0m: tuple index out of range"]}]},{"cell_type":"code","metadata":{"colab":{"base_uri":"https://localhost:8080/","height":434},"id":"generous-spanking","executionInfo":{"status":"error","timestamp":1617729637239,"user_tz":-120,"elapsed":704,"user":{"displayName":"Flavio Petruzzellis","photoUrl":"https://lh3.googleusercontent.com/a-/AOh14GgMgmuRcKe0MWSqlRzEDC-qfwT578tEt9iJ05aYGg=s64","userId":"10204525749963004399"}},"outputId":"fcb7fac2-c8d1-4d90-ae5f-05c315debb5f"},"source":["agent.render()"],"id":"generous-spanking","execution_count":null,"outputs":[{"output_type":"error","ename":"IndexError","evalue":"ignored","traceback":["\u001b[0;31m---------------------------------------------------------------------------\u001b[0m","\u001b[0;31mIndexError\u001b[0m                                Traceback (most recent call last)","\u001b[0;32m<ipython-input-4-28cfd2d7350b>\u001b[0m in \u001b[0;36m<module>\u001b[0;34m()\u001b[0m\n\u001b[0;32m----> 1\u001b[0;31m \u001b[0magent\u001b[0m\u001b[0;34m.\u001b[0m\u001b[0mrender\u001b[0m\u001b[0;34m(\u001b[0m\u001b[0;34m)\u001b[0m\u001b[0;34m\u001b[0m\u001b[0;34m\u001b[0m\u001b[0m\n\u001b[0m","\u001b[0;32m/content/drive/My Drive/Unipd/Tesi/counting-agents/src/SingleAgent.py\u001b[0m in \u001b[0;36mrender\u001b[0;34m(self, display_id)\u001b[0m\n\u001b[1;32m     87\u001b[0m         \u001b[0mself\u001b[0m\u001b[0;34m.\u001b[0m\u001b[0mobs_img\u001b[0m \u001b[0;34m=\u001b[0m \u001b[0mutils\u001b[0m\u001b[0;34m.\u001b[0m\u001b[0mannotate_below\u001b[0m\u001b[0;34m(\u001b[0m\u001b[0mself\u001b[0m\u001b[0;34m.\u001b[0m\u001b[0mobs_img\u001b[0m\u001b[0;34m,\u001b[0m \u001b[0;34m\"Observation\"\u001b[0m\u001b[0;34m)\u001b[0m\u001b[0;34m\u001b[0m\u001b[0;34m\u001b[0m\u001b[0m\n\u001b[1;32m     88\u001b[0m \u001b[0;34m\u001b[0m\u001b[0m\n\u001b[0;32m---> 89\u001b[0;31m         \u001b[0mself\u001b[0m\u001b[0;34m.\u001b[0m\u001b[0maction_img\u001b[0m \u001b[0;34m=\u001b[0m \u001b[0mImage\u001b[0m\u001b[0;34m.\u001b[0m\u001b[0mfromarray\u001b[0m\u001b[0;34m(\u001b[0m\u001b[0mself\u001b[0m\u001b[0;34m.\u001b[0m\u001b[0maction\u001b[0m\u001b[0;34m*\u001b[0m\u001b[0;36m255\u001b[0m\u001b[0;34m)\u001b[0m\u001b[0;34m.\u001b[0m\u001b[0mresize\u001b[0m\u001b[0;34m(\u001b[0m \u001b[0;34m(\u001b[0m\u001b[0mint\u001b[0m\u001b[0;34m(\u001b[0m\u001b[0mimg_height\u001b[0m\u001b[0;34m/\u001b[0m\u001b[0;36m4\u001b[0m\u001b[0;34m)\u001b[0m\u001b[0;34m,\u001b[0m\u001b[0mimg_height\u001b[0m\u001b[0;34m)\u001b[0m\u001b[0;34m,\u001b[0m \u001b[0mresample\u001b[0m\u001b[0;34m=\u001b[0m\u001b[0;36m0\u001b[0m\u001b[0;34m)\u001b[0m\u001b[0;34m\u001b[0m\u001b[0;34m\u001b[0m\u001b[0m\n\u001b[0m\u001b[1;32m     90\u001b[0m         \u001b[0mself\u001b[0m\u001b[0;34m.\u001b[0m\u001b[0maction_img\u001b[0m \u001b[0;34m=\u001b[0m \u001b[0mutils\u001b[0m\u001b[0;34m.\u001b[0m\u001b[0madd_grid_lines\u001b[0m\u001b[0;34m(\u001b[0m\u001b[0mself\u001b[0m\u001b[0;34m.\u001b[0m\u001b[0maction_img\u001b[0m\u001b[0;34m,\u001b[0m \u001b[0mnp\u001b[0m\u001b[0;34m.\u001b[0m\u001b[0mreshape\u001b[0m\u001b[0;34m(\u001b[0m\u001b[0mself\u001b[0m\u001b[0;34m.\u001b[0m\u001b[0maction\u001b[0m\u001b[0;34m,\u001b[0m \u001b[0;34m(\u001b[0m\u001b[0;34m-\u001b[0m\u001b[0;36m1\u001b[0m\u001b[0;34m,\u001b[0m \u001b[0;36m1\u001b[0m\u001b[0;34m)\u001b[0m\u001b[0;34m)\u001b[0m\u001b[0;34m)\u001b[0m\u001b[0;34m\u001b[0m\u001b[0;34m\u001b[0m\u001b[0m\n\u001b[1;32m     91\u001b[0m         \u001b[0mself\u001b[0m\u001b[0;34m.\u001b[0m\u001b[0maction_img\u001b[0m \u001b[0;34m=\u001b[0m \u001b[0mutils\u001b[0m\u001b[0;34m.\u001b[0m\u001b[0mannotate_nodes\u001b[0m\u001b[0;34m(\u001b[0m\u001b[0mself\u001b[0m\u001b[0;34m.\u001b[0m\u001b[0maction_img\u001b[0m\u001b[0;34m,\u001b[0m \u001b[0mself\u001b[0m\u001b[0;34m.\u001b[0m\u001b[0mall_actions_list\u001b[0m\u001b[0;34m)\u001b[0m\u001b[0;34m\u001b[0m\u001b[0;34m\u001b[0m\u001b[0m\n","\u001b[0;32m/usr/local/lib/python3.7/dist-packages/PIL/Image.py\u001b[0m in \u001b[0;36mfromarray\u001b[0;34m(obj, mode)\u001b[0m\n\u001b[1;32m   2726\u001b[0m         \u001b[0;32mraise\u001b[0m \u001b[0mValueError\u001b[0m\u001b[0;34m(\u001b[0m\u001b[0;34m\"Too many dimensions: %d > %d.\"\u001b[0m \u001b[0;34m%\u001b[0m \u001b[0;34m(\u001b[0m\u001b[0mndim\u001b[0m\u001b[0;34m,\u001b[0m \u001b[0mndmax\u001b[0m\u001b[0;34m)\u001b[0m\u001b[0;34m)\u001b[0m\u001b[0;34m\u001b[0m\u001b[0;34m\u001b[0m\u001b[0m\n\u001b[1;32m   2727\u001b[0m \u001b[0;34m\u001b[0m\u001b[0m\n\u001b[0;32m-> 2728\u001b[0;31m     \u001b[0msize\u001b[0m \u001b[0;34m=\u001b[0m \u001b[0mshape\u001b[0m\u001b[0;34m[\u001b[0m\u001b[0;36m1\u001b[0m\u001b[0;34m]\u001b[0m\u001b[0;34m,\u001b[0m \u001b[0mshape\u001b[0m\u001b[0;34m[\u001b[0m\u001b[0;36m0\u001b[0m\u001b[0;34m]\u001b[0m\u001b[0;34m\u001b[0m\u001b[0;34m\u001b[0m\u001b[0m\n\u001b[0m\u001b[1;32m   2729\u001b[0m     \u001b[0;32mif\u001b[0m \u001b[0mstrides\u001b[0m \u001b[0;32mis\u001b[0m \u001b[0;32mnot\u001b[0m \u001b[0;32mNone\u001b[0m\u001b[0;34m:\u001b[0m\u001b[0;34m\u001b[0m\u001b[0;34m\u001b[0m\u001b[0m\n\u001b[1;32m   2730\u001b[0m         \u001b[0;32mif\u001b[0m \u001b[0mhasattr\u001b[0m\u001b[0;34m(\u001b[0m\u001b[0mobj\u001b[0m\u001b[0;34m,\u001b[0m \u001b[0;34m\"tobytes\"\u001b[0m\u001b[0;34m)\u001b[0m\u001b[0;34m:\u001b[0m\u001b[0;34m\u001b[0m\u001b[0;34m\u001b[0m\u001b[0m\n","\u001b[0;31mIndexError\u001b[0m: tuple index out of range"]}]},{"cell_type":"code","metadata":{"colab":{"base_uri":"https://localhost:8080/","height":347},"id":"common-example","executionInfo":{"status":"error","timestamp":1617730296357,"user_tz":-120,"elapsed":819,"user":{"displayName":"Flavio Petruzzellis","photoUrl":"https://lh3.googleusercontent.com/a-/AOh14GgMgmuRcKe0MWSqlRzEDC-qfwT578tEt9iJ05aYGg=s64","userId":"10204525749963004399"}},"outputId":"50bac11f-aade-4e06-e977-7675a1b54e9b"},"source":["action = 'submit'\n","agent.step(action)\n","agent.render()"],"id":"common-example","execution_count":null,"outputs":[{"output_type":"error","ename":"AttributeError","evalue":"ignored","traceback":["\u001b[0;31m---------------------------------------------------------------------------\u001b[0m","\u001b[0;31mAttributeError\u001b[0m                            Traceback (most recent call last)","\u001b[0;32m<ipython-input-15-e23d0866658d>\u001b[0m in \u001b[0;36m<module>\u001b[0;34m()\u001b[0m\n\u001b[1;32m      1\u001b[0m \u001b[0maction\u001b[0m \u001b[0;34m=\u001b[0m \u001b[0;34m'submit'\u001b[0m\u001b[0;34m\u001b[0m\u001b[0;34m\u001b[0m\u001b[0m\n\u001b[0;32m----> 2\u001b[0;31m \u001b[0magent\u001b[0m\u001b[0;34m.\u001b[0m\u001b[0mstep\u001b[0m\u001b[0;34m(\u001b[0m\u001b[0maction\u001b[0m\u001b[0;34m)\u001b[0m\u001b[0;34m\u001b[0m\u001b[0;34m\u001b[0m\u001b[0m\n\u001b[0m\u001b[1;32m      3\u001b[0m \u001b[0magent\u001b[0m\u001b[0;34m.\u001b[0m\u001b[0mrender\u001b[0m\u001b[0;34m(\u001b[0m\u001b[0;34m)\u001b[0m\u001b[0;34m\u001b[0m\u001b[0;34m\u001b[0m\u001b[0m\n","\u001b[0;32m/content/drive/My Drive/Unipd/Tesi/counting-agents/src/SingleAgent.py\u001b[0m in \u001b[0;36mstep\u001b[0;34m(self, action)\u001b[0m\n\u001b[1;32m     66\u001b[0m \u001b[0;34m\u001b[0m\u001b[0m\n\u001b[1;32m     67\u001b[0m         \u001b[0;32mif\u001b[0m\u001b[0;34m(\u001b[0m\u001b[0maction\u001b[0m \u001b[0;32min\u001b[0m \u001b[0mself\u001b[0m\u001b[0;34m.\u001b[0m\u001b[0motherinteractions\u001b[0m\u001b[0;34m.\u001b[0m\u001b[0mactions\u001b[0m\u001b[0;34m)\u001b[0m\u001b[0;34m:\u001b[0m\u001b[0;34m\u001b[0m\u001b[0;34m\u001b[0m\u001b[0m\n\u001b[0;32m---> 68\u001b[0;31m             \u001b[0mself\u001b[0m\u001b[0;34m.\u001b[0m\u001b[0motherinteractions\u001b[0m\u001b[0;34m.\u001b[0m\u001b[0mstep\u001b[0m\u001b[0;34m(\u001b[0m\u001b[0maction\u001b[0m\u001b[0;34m)\u001b[0m\u001b[0;34m\u001b[0m\u001b[0;34m\u001b[0m\u001b[0m\n\u001b[0m\u001b[1;32m     69\u001b[0m \u001b[0;34m\u001b[0m\u001b[0m\n\u001b[1;32m     70\u001b[0m         \u001b[0;31m# Build action-array according to the int/string action. This is mainly for the demo mode, where actions are given\u001b[0m\u001b[0;34m\u001b[0m\u001b[0;34m\u001b[0m\u001b[0;34m\u001b[0m\u001b[0m\n","\u001b[0;32m/content/drive/My Drive/Unipd/Tesi/counting-agents/src/SingleAgent.py\u001b[0m in \u001b[0;36mstep\u001b[0;34m(self, action)\u001b[0m\n\u001b[1;32m    229\u001b[0m         \u001b[0;32mif\u001b[0m\u001b[0;34m(\u001b[0m\u001b[0maction\u001b[0m\u001b[0;34m==\u001b[0m\u001b[0;34m'submit'\u001b[0m\u001b[0;34m)\u001b[0m\u001b[0;34m:\u001b[0m\u001b[0;34m\u001b[0m\u001b[0;34m\u001b[0m\u001b[0m\n\u001b[1;32m    230\u001b[0m             \u001b[0mself\u001b[0m\u001b[0;34m.\u001b[0m\u001b[0mis_submitted_ext_repr\u001b[0m \u001b[0;34m=\u001b[0m \u001b[0;32mTrue\u001b[0m\u001b[0;34m\u001b[0m\u001b[0;34m\u001b[0m\u001b[0m\n\u001b[0;32m--> 231\u001b[0;31m             \u001b[0mself\u001b[0m\u001b[0;34m.\u001b[0m\u001b[0msubmitted_ext_repr\u001b[0m \u001b[0;34m=\u001b[0m \u001b[0mself\u001b[0m\u001b[0;34m.\u001b[0m\u001b[0mext_repr\u001b[0m\u001b[0;34m.\u001b[0m\u001b[0mexternalrepresentation\u001b[0m\u001b[0;34m\u001b[0m\u001b[0;34m\u001b[0m\u001b[0m\n\u001b[0m\u001b[1;32m    232\u001b[0m         \u001b[0;32melif\u001b[0m\u001b[0;34m(\u001b[0m\u001b[0maction\u001b[0m\u001b[0;34m==\u001b[0m\u001b[0;34m'larger'\u001b[0m\u001b[0;34m)\u001b[0m\u001b[0;34m:\u001b[0m\u001b[0;34m\u001b[0m\u001b[0;34m\u001b[0m\u001b[0m\n\u001b[1;32m    233\u001b[0m             \u001b[0;32mpass\u001b[0m\u001b[0;34m\u001b[0m\u001b[0;34m\u001b[0m\u001b[0m\n","\u001b[0;31mAttributeError\u001b[0m: 'OtherInteractions' object has no attribute 'ext_repr'"]}]},{"cell_type":"code","metadata":{"id":"super-creator"},"source":["### Create a gif with sample actions\n","import imageio\n","\n","agent_params = {\n","    'max_objects': 4,\n","    'obs_dim': 4,\n","}\n","\n","agent = SingleRLAgent(agent_params)\n","\n","images = []\n","images.append(agent.render())\n","\n","n_steps = 5\n","for i in range(n_steps):\n","    action = n_steps-i-1 #random.randint(0, agent.action_dim-1)\n","    agent.step(action)\n","    images.append(agent.render())\n","imageio.mimsave('env_demo_2.gif', images, fps=0.5)"],"id":"super-creator","execution_count":null,"outputs":[]},{"cell_type":"code","metadata":{"id":"opened-principal"},"source":[""],"id":"opened-principal","execution_count":null,"outputs":[]}]}
=======
{
 "cells": [
  {
   "cell_type": "code",
   "execution_count": null,
   "metadata": {
    "scrolled": true
   },
   "outputs": [],
   "source": [
    "from SingleAgent import SingleRLAgent"
   ]
  },
  {
   "cell_type": "code",
   "execution_count": 31,
   "metadata": {},
   "outputs": [],
   "source": [
    "%run SingleAgent.py\n",
    "%run utils.py"
   ]
  },
  {
   "cell_type": "code",
   "execution_count": 32,
   "metadata": {},
   "outputs": [],
   "source": [
    "agent_params = {\n",
    "    'max_objects': 4,\n",
    "    'obs_dim': 4,\n",
    "}\n",
    "\n",
    "agent = SingleRLAgent(agent_params)"
   ]
  },
  {
   "cell_type": "code",
   "execution_count": 33,
   "metadata": {},
   "outputs": [
    {
     "data": {
      "image/png": "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\n",
      "text/plain": [
       "<PIL.Image.Image image mode=RGB size=780x250 at 0x7FEBFEDC1490>"
      ]
     },
     "execution_count": 33,
     "metadata": {},
     "output_type": "execute_result"
    }
   ],
   "source": [
    "agent.render()"
   ]
  },
  {
   "cell_type": "code",
   "execution_count": 34,
   "metadata": {},
   "outputs": [
    {
     "data": {
      "image/png": "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\n",
      "text/plain": [
       "<PIL.Image.Image image mode=RGB size=780x250 at 0x7FEBFEDC1C10>"
      ]
     },
     "execution_count": 34,
     "metadata": {},
     "output_type": "execute_result"
    }
   ],
   "source": [
    "action = 'left'\n",
    "agent.step(action)\n",
    "agent.render()"
   ]
  },
  {
   "cell_type": "code",
   "execution_count": 39,
   "metadata": {},
   "outputs": [],
   "source": [
    "### Create a gif with sample actions\n",
    "import imageio\n",
    "\n",
    "agent_params = {\n",
    "    'max_objects': 4,\n",
    "    'obs_dim': 4,\n",
    "}\n",
    "\n",
    "agent = SingleRLAgent(agent_params)\n",
    "\n",
    "images = []\n",
    "images.append(agent.render())\n",
    "\n",
    "n_steps = 5\n",
    "for i in range(n_steps):\n",
    "    action = n_steps-i-1 #random.randint(0, agent.action_dim-1)\n",
    "    agent.step(action)\n",
    "    images.append(agent.render())\n",
    "imageio.mimsave('env_demo_2.gif', images, fps=0.5)"
   ]
  },
  {
   "cell_type": "code",
   "execution_count": null,
   "metadata": {},
   "outputs": [],
   "source": []
  }
 ],
 "metadata": {
  "kernelspec": {
   "display_name": "Python 3",
   "language": "python",
   "name": "python3"
  },
  "language_info": {
   "codemirror_mode": {
    "name": "ipython",
    "version": 3
   },
   "file_extension": ".py",
   "mimetype": "text/x-python",
   "name": "python",
   "nbconvert_exporter": "python",
   "pygments_lexer": "ipython3",
   "version": "3.8.5"
  }
 },
 "nbformat": 4,
 "nbformat_minor": 5
}
>>>>>>> 777a20ac38eec04adc32534100a7b4d77ef2deb1:notebooks/TestEnvironment.ipynb
