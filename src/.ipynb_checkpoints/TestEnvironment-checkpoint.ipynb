{
 "cells": [
  {
   "cell_type": "code",
   "execution_count": 1,
   "id": "loaded-coaching",
   "metadata": {},
   "outputs": [],
   "source": [
    "from SingleAgent import SingleRLAgent\n",
    "from MultiAgentEnvironment import MultiAgentEnvironment\n",
    "import matplotlib.pyplot as plt\n",
    "from RLTrainer import demonstrate_model\n",
    "from DQN_Agent_Single import DQN_Agent_Single\n",
    "from DQN_Agent_Double import DQN_Agent_Double\n",
    "import pytorch_utils as ptu\n",
    "from QNets import N_Concat_CNNs\n",
    "from ipywidgets import interact, interactive, fixed, interact_manual\n",
    "from IPython.display import display, update_display\n",
    "import ipywidgets as widgets\n",
    "import imageio\n",
    "import time\n",
    "import random\n",
    "import numpy as np"
   ]
  },
  {
   "cell_type": "code",
   "execution_count": 15,
   "id": "moral-terry",
   "metadata": {},
   "outputs": [
    {
     "name": "stdout",
     "output_type": "stream",
     "text": [
      "Working with max  2  objects\n"
     ]
    },
    {
     "data": {
      "image/png": "[encoded data removed]",
      "text/plain": [
       "<PIL.Image.Image image mode=RGB size=990x500 at 0x7FAFECD888D0>"
      ]
     },
     "metadata": {},
     "output_type": "display_data"
    }
   ],
   "source": [
    "##############\n",
    "## Environment: Random Actions Animation\n",
    "##########################################\n",
    "\n",
    "\n",
    "##############\n",
    "## Static Environment Image\n",
    "###################\n",
    "\n",
    "\n",
    "agent_params = {\n",
    "    'single_or_multi_agent': 'multi',\n",
    "    'task': 'classify',\n",
    "    'external_repr_tool': 'MoveAndWrite',\n",
    "    'observation': 'temporal',\n",
    "    'max_objects': 2,\n",
    "    'obs_dim': 4,\n",
    "    'max_episode_length': 8,\n",
    "    'curriculum_learning': False\n",
    "}\n",
    "\n",
    "\n",
    "\n",
    "if(agent_params['single_or_multi_agent'] == 'multi'):\n",
    "    env = MultiAgentEnvironment(agent_params)\n",
    "    env.agents[0].check_reward = False\n",
    "if(agent_params['single_or_multi_agent'] == 'single'):\n",
    "    env = SingleRLAgent(agent_params)\n",
    "    env.check_reward = False\n",
    "#env.max_episode_length = 7\n",
    "env.reset()\n",
    "display(env.render(), display_id='model_demo')\n",
    "for i in range(agent_params['max_episode_length']):\n",
    "    #env.step(['right', 'mod_point'])\n",
    "    env.step([random.randint(0, env.action_dim-1),random.randint(0, env.action_dim-1)])\n",
    "    update_display(env.render(), display_id='model_demo')\n",
    "    time.sleep(3)"
   ]
  },
  {
   "cell_type": "code",
   "execution_count": 22,
   "id": "fuzzy-silly",
   "metadata": {},
   "outputs": [
    {
     "name": "stdout",
     "output_type": "stream",
     "text": [
      "Working with max  3  objects\n"
     ]
    },
    {
     "data": {
      "image/png": "[encoded data removed]",
      "text/plain": [
       "<PIL.Image.Image image mode=RGB size=990x500 at 0x7FAFECD888D0>"
      ]
     },
     "metadata": {},
     "output_type": "display_data"
    }
   ],
   "source": [
    "##############\n",
    "## Static Environment Image\n",
    "###################\n",
    "\n",
    "\n",
    "agent_params = {\n",
    "    'single_or_multi_agent': 'multi',\n",
    "    'task': 'classify',\n",
    "    'external_repr_tool': 'Abacus',\n",
    "    'observation': 'spatial',\n",
    "    'max_objects': 3,\n",
    "    'obs_dim': 4,\n",
    "    'max_episode_length': 8,\n",
    "    'curriculum_learning': False\n",
    "}\n",
    "\n",
    "\n",
    "\n",
    "if(agent_params['single_or_multi_agent'] == 'multi'):\n",
    "    env = MultiAgentEnvironment(agent_params)\n",
    "    env.agents[0].check_reward = False\n",
    "if(agent_params['single_or_multi_agent'] == 'single'):\n",
    "    env = SingleRLAgent(agent_params)\n",
    "    env.check_reward = False\n",
    "#env.max_episode_length = 7\n",
    "env.reset()\n",
    "display(env.render(), display_id='model_demo')\n",
    "env.step(['down', 'move_token_right'])\n",
    "update_display(env.render(), display_id='model_demo')"
   ]
  },
  {
   "cell_type": "code",
   "execution_count": 24,
   "id": "romantic-beauty",
   "metadata": {},
   "outputs": [],
   "source": [
    "env.step(['move_token_right', 'move_token_right'])\n",
    "update_display(env.render(), display_id='model_demo')"
   ]
  },
  {
   "cell_type": "code",
   "execution_count": 18,
   "id": "adopted-effectiveness",
   "metadata": {},
   "outputs": [
    {
     "ename": "KeyError",
     "evalue": "'Agent_Setup'",
     "output_type": "error",
     "traceback": [
      "\u001b[0;31m---------------------------------------------------------------------------\u001b[0m",
      "\u001b[0;31mKeyError\u001b[0m                                  Traceback (most recent call last)",
      "\u001b[0;32m~/programming/rl-single-agent-numbers/counting-agents/src/MultiAgentEnvironment.py\u001b[0m in \u001b[0;36m<module>\u001b[0;34m\u001b[0m\n\u001b[1;32m    104\u001b[0m     }\n\u001b[1;32m    105\u001b[0m \u001b[0;34m\u001b[0m\u001b[0m\n\u001b[0;32m--> 106\u001b[0;31m     \u001b[0magent\u001b[0m \u001b[0;34m=\u001b[0m \u001b[0mMultiAgentEnvironment\u001b[0m\u001b[0;34m(\u001b[0m\u001b[0magent_params\u001b[0m\u001b[0;34m)\u001b[0m\u001b[0;34m\u001b[0m\u001b[0;34m\u001b[0m\u001b[0m\n\u001b[0m\u001b[1;32m    107\u001b[0m     \u001b[0magent\u001b[0m\u001b[0;34m.\u001b[0m\u001b[0mrender\u001b[0m\u001b[0;34m(\u001b[0m\u001b[0;34m)\u001b[0m\u001b[0;34m\u001b[0m\u001b[0;34m\u001b[0m\u001b[0m\n\u001b[1;32m    108\u001b[0m \u001b[0;34m\u001b[0m\u001b[0m\n",
      "\u001b[0;32m~/programming/rl-single-agent-numbers/counting-agents/src/MultiAgentEnvironment.py\u001b[0m in \u001b[0;36m__init__\u001b[0;34m(self, params)\u001b[0m\n\u001b[1;32m     18\u001b[0m \u001b[0;34m\u001b[0m\u001b[0m\n\u001b[1;32m     19\u001b[0m         \u001b[0mself\u001b[0m\u001b[0;34m.\u001b[0m\u001b[0mparams\u001b[0m \u001b[0;34m=\u001b[0m \u001b[0mparams\u001b[0m\u001b[0;34m\u001b[0m\u001b[0;34m\u001b[0m\u001b[0m\n\u001b[0;32m---> 20\u001b[0;31m         \u001b[0mself\u001b[0m\u001b[0;34m.\u001b[0m\u001b[0mexperiment_specific_setup\u001b[0m \u001b[0;34m=\u001b[0m \u001b[0mAgentSetupDict\u001b[0m\u001b[0;34m[\u001b[0m\u001b[0mself\u001b[0m\u001b[0;34m.\u001b[0m\u001b[0mparams\u001b[0m\u001b[0;34m[\u001b[0m\u001b[0;34m'Agent_Setup'\u001b[0m\u001b[0;34m]\u001b[0m\u001b[0;34m]\u001b[0m\u001b[0;34m(\u001b[0m\u001b[0mself\u001b[0m\u001b[0;34m.\u001b[0m\u001b[0mparams\u001b[0m\u001b[0;34m)\u001b[0m\u001b[0;34m\u001b[0m\u001b[0;34m\u001b[0m\u001b[0m\n\u001b[0m\u001b[1;32m     21\u001b[0m \u001b[0;34m\u001b[0m\u001b[0m\n\u001b[1;32m     22\u001b[0m         \u001b[0mself\u001b[0m\u001b[0;34m.\u001b[0m\u001b[0mmax_objects\u001b[0m \u001b[0;34m=\u001b[0m \u001b[0mself\u001b[0m\u001b[0;34m.\u001b[0m\u001b[0mparams\u001b[0m\u001b[0;34m[\u001b[0m\u001b[0;34m'max_objects'\u001b[0m\u001b[0;34m]\u001b[0m\u001b[0;34m\u001b[0m\u001b[0;34m\u001b[0m\u001b[0m\n",
      "\u001b[0;31mKeyError\u001b[0m: 'Agent_Setup'"
     ]
    }
   ],
   "source": [
    "%run SingleAgent.py\n",
    "%run MultiAgentEnvironment.py\n",
    "%run utils.py"
   ]
  },
  {
   "cell_type": "code",
   "execution_count": 3,
   "id": "greater-landscape",
   "metadata": {},
   "outputs": [],
   "source": [
    "agent_params = {\n",
    "    'max_objects': 4,\n",
    "    'obs_dim': 4,\n",
    "}\n",
    "\n",
    "agent = SingleRLAgent(agent_params)"
   ]
  },
  {
   "cell_type": "code",
   "execution_count": 4,
   "id": "generous-spanking",
   "metadata": {},
   "outputs": [
    {
     "data": {
      "image/png": "[encoded data removed]",
      "text/plain": [
       "<PIL.Image.Image image mode=RGB size=990x250 at 0x7F55F7CBEAD0>"
      ]
     },
     "execution_count": 4,
     "metadata": {},
     "output_type": "execute_result"
    }
   ],
   "source": [
    "agent.render()"
   ]
  },
  {
   "cell_type": "code",
   "execution_count": 45,
   "id": "detailed-carroll",
   "metadata": {},
   "outputs": [],
   "source": [
    "def demonstrate_model(model, env, collect=False, eval=True, n_objects=None):\n",
    "    total_rewards = []\n",
    "    summed_rewards = 0\n",
    "\n",
    "    states = env.reset(n_objects)\n",
    "    states = torch.stack([torch.unsqueeze(ptu.from_numpy(state), dim=0) for state in states]).transpose(0,1)\n",
    "    t_sofar = 0\n",
    "    done = False\n",
    "\n",
    "    \n",
    "    actions_during_episode = []\n",
    "    img_list = []\n",
    "    img_list.append(env.render(display_id=\"model_demo\"))\n",
    "\n",
    "    while not done:\n",
    "        t_sofar += 1\n",
    "        actions_tensors = model(states)\n",
    "        action_arr = [ptu.to_numpy(actions_tensor) for actions_tensor in actions_tensors]\n",
    "        actions = [np.argmax(action_arr[0], axis=1)[0], np.argmax(action_arr[1], axis=1)[0]]\n",
    "        actions_during_episode.append(actions)\n",
    "        next_states, reward, done, _ = env.step(actions)\n",
    "\n",
    "        # Convert numpy objects to tensors for saving in memory\n",
    "        reward = torch.tensor([ptu.from_numpy(np.array(reward))])\n",
    "        actions = torch.stack([torch.unsqueeze(ptu.from_numpy(np.array(action)),dim=0) for action in actions])\n",
    "        if next_states is not None:\n",
    "            next_states = torch.stack([torch.unsqueeze(ptu.from_numpy(next_state), dim=0) for next_state in next_states]).transpose(0,1)\n",
    "\n",
    "        # Move to the next state\n",
    "        states = next_states\n",
    "\n",
    "\n",
    "        if done:\n",
    "            reward = reward.cpu().numpy().item()\n",
    "            summed_rewards += reward\n",
    "            total_rewards.append(reward)\n",
    "\n",
    "        #if(eval and i_episode==0):\n",
    "        #    print(\"act \", t_sofar, \": \", actions)\n",
    "        print(actions)\n",
    "        img_list.append(env.render(display_id=\"model_demo\"))\n",
    "        time.sleep(2)\n",
    "    return img_list\n",
    "\n"
   ]
  },
  {
   "cell_type": "code",
   "execution_count": 58,
   "id": "stable-program",
   "metadata": {},
   "outputs": [
    {
     "name": "stdout",
     "output_type": "stream",
     "text": [
      "Working with max  8  objects\n"
     ]
    },
    {
     "data": {
      "image/png": "[encoded data removed]",
      "text/plain": [
       "<PIL.Image.Image image mode=RGB size=990x500 at 0x7FF27E6B6D50>"
      ]
     },
     "metadata": {},
     "output_type": "display_data"
    },
    {
     "name": "stdout",
     "output_type": "stream",
     "text": [
      "tensor([[4.],\n",
      "        [0.]])\n",
      "tensor([[0.],\n",
      "        [4.]])\n",
      "tensor([[4.],\n",
      "        [0.]])\n",
      "tensor([[0.],\n",
      "        [4.]])\n",
      "tensor([[4.],\n",
      "        [0.]])\n",
      "tensor([[9.],\n",
      "        [4.]])\n",
      "tensor([[9.],\n",
      "        [9.]])\n",
      "tensor([[9.],\n",
      "        [9.]])\n",
      "tensor([[9.],\n",
      "        [9.]])\n"
     ]
    }
   ],
   "source": [
    "# Define Environment (2-Agents)\n",
    "\n",
    "agent_params = {\n",
    "    'max_objects': 2,\n",
    "    'obs_dim': 4,\n",
    "    'max_episode_length': 1,\n",
    "}\n",
    "\n",
    "# agent_params = {\n",
    "#     'max_objects': 3,\n",
    "#     'obs_dim': 4,\n",
    "#     'max_episode_length': 3,\n",
    "# }\n",
    "\n",
    "agent_params = {\n",
    "    'max_objects': 4,\n",
    "    'obs_dim': 4,\n",
    "    'max_episode_length': 5,\n",
    "}\n",
    "\n",
    "agent_params = {\n",
    "    'max_objects': 9,\n",
    "    'obs_dim': 4,\n",
    "    'max_episode_length': 7,\n",
    "}\n",
    "\n",
    "agent_params = {\n",
    "    'max_objects': 8,\n",
    "    'obs_dim': 4,\n",
    "    'max_episode_length': 8,\n",
    "}\n",
    "\n",
    "\n",
    "env = MultiAgentEnvironment(agent_params)\n",
    "#env.max_episode_length = 7\n",
    "env.reset()\n",
    "display(env.render(), display_id='model_demo')\n",
    "\n",
    "n_channels, screen_height, screen_width  = env.states[0].shape  # Assumes that all agents have same state-dim as agent[0]\n",
    "n_actions = env.agents[0].action_dim\n",
    "model = N_Concat_CNNs(n_channels, n_actions, shared_policy=False)\n",
    "# Successful 2\n",
    "#model.load_state_dict(torch.load('/home/silvester/programming/rl-communicating-numbers/counting-agents/src/../data/TODO_30-04-2021_16-16-33/model.pt'))\n",
    "# Successful 3\n",
    "#model.load_state_dict(torch.load('/home/silvester/programming/rl-communicating-numbers/counting-agents/src/../data/TODO_03-05-2021_11-34-15/model.pt'))\n",
    "# Successful 4\n",
    "#model.load_state_dict(torch.load('/home/silvester/programming/rl-communicating-numbers/counting-agents/src/../data/TODO_03-05-2021_13-03-38/model.pt'))\n",
    "# almost - Successful 5\n",
    "#model.load_state_dict(torch.load('/home/silvester/programming/rl-communicating-numbers/counting-agents/src/../data/TODO_03-05-2021_14-22-02/model.pt'))\n",
    "# 60 % for 9\n",
    "#model.load_state_dict(torch.load('/home/silvester/programming/rl-communicating-numbers/counting-agents/src/../data/TODO_04-05-2021_13-36-48/model.pt'))\n",
    "# 82 % for 9\n",
    "#model.load_state_dict(torch.load('/home/silvester/programming/rl-communicating-numbers/counting-agents/src/../data/TODO_04-05-2021_22-08-07/model.pt'))\n",
    "# Classify to 5 82 %\n",
    "#model.load_state_dict(torch.load('/home/silvester/programming/rl-communicating-numbers/counting-agents/src/../data/TODO_05-05-2021_18-37-48/model.pt'))\n",
    "# Classify to 5 95 %\n",
    "model.load_state_dict(torch.load('/home/silvester/programming/rl-communicating-numbers/counting-agents/src/../data/TODO_07-05-2021_11-03-33/model.pt'))\n",
    "# even more: TODO_07-05-2021_11-32-52\n",
    "# Reproduce up til 8 objects: \n",
    "model.load_state_dict(torch.load('/home/silvester/programming/rl-communicating-numbers/counting-agents/src/../data/TODO_11-05-2021_11-30-16/model.pt'))\n",
    "\n",
    "\n",
    "\n",
    "\n",
    "\n",
    "img_list = demonstrate_model(model, env, n_objects=[2,3])"
   ]
  },
  {
   "cell_type": "code",
   "execution_count": 38,
   "id": "close-logistics",
   "metadata": {},
   "outputs": [
    {
     "name": "stdout",
     "output_type": "stream",
     "text": [
      "[[1. 1. 0. 1.]\n",
      " [1. 0. 0. 1.]\n",
      " [0. 0. 0. 1.]\n",
      " [1. 0. 0. 1.]]\n",
      "8.0\n"
     ]
    }
   ],
   "source": [
    "a = np.zeros((4, 4))\n",
    "a.ravel()[np.random.choice(4*4, 8, replace=False)] = 1\n",
    "print(a)\n",
    "print(a.sum())"
   ]
  },
  {
   "cell_type": "code",
   "execution_count": 135,
   "id": "configured-marine",
   "metadata": {},
   "outputs": [
    {
     "data": {
      "text/plain": [
       "3"
      ]
     },
     "execution_count": 135,
     "metadata": {},
     "output_type": "execute_result"
    }
   ],
   "source": [
    "test_dict = {\n",
    "    0: '0',\n",
    "    1: '1',\n",
    "    2: '2',\n",
    "}\n",
    "len(test_dict)"
   ]
  },
  {
   "cell_type": "code",
   "execution_count": 56,
   "id": "everyday-customer",
   "metadata": {},
   "outputs": [
    {
     "data": {
      "application/vnd.jupyter.widget-view+json": {
       "model_id": "dca32348f0d547ffbe54d87a776a3689",
       "version_major": 2,
       "version_minor": 0
      },
      "text/plain": [
       "interactive(children=(IntSlider(value=2, description='t', max=4), Output()), _dom_classes=('widget-interact',)…"
      ]
     },
     "metadata": {},
     "output_type": "display_data"
    }
   ],
   "source": [
    "interact(img_slider,t=(0, len(img_list)-1, 1));"
   ]
  },
  {
   "cell_type": "code",
   "execution_count": 70,
   "id": "contrary-extra",
   "metadata": {},
   "outputs": [],
   "source": [
    "imageio.mimsave('../results/animations/comparison_up_3_2_vs_3.gif', img_list, duration=2)"
   ]
  },
  {
   "cell_type": "code",
   "execution_count": 43,
   "id": "electronic-minister",
   "metadata": {},
   "outputs": [
    {
     "data": {
      "image/png": "[encoded data removed]",
      "text/plain": [
       "<PIL.Image.Image image mode=RGB size=990x500 at 0x7FF065F71F10>"
      ]
     },
     "metadata": {},
     "output_type": "display_data"
    }
   ],
   "source": [
    "def img_slider(t):\n",
    "    display(img_list[t], display_id=\"slider_display\")\n",
    "    \n",
    "img_slider(0)\n"
   ]
  },
  {
   "cell_type": "code",
   "execution_count": 5,
   "id": "announced-township",
   "metadata": {},
   "outputs": [
    {
     "data": {
      "image/png": "[encoded data removed]",
      "text/plain": [
       "<PIL.Image.Image image mode=RGB size=990x250 at 0x7F9BA4F4BC10>"
      ]
     },
     "execution_count": 5,
     "metadata": {},
     "output_type": "execute_result"
    }
   ],
   "source": [
    "action = 'left'\n",
    "agent.step(action)\n",
    "agent.render()"
   ]
  },
  {
   "cell_type": "code",
   "execution_count": 6,
   "id": "israeli-indie",
   "metadata": {},
   "outputs": [
    {
     "data": {
      "image/png": "[encoded data removed]",
      "text/plain": [
       "<PIL.Image.Image image mode=RGB size=990x250 at 0x7F9BA4F4BA10>"
      ]
     },
     "metadata": {},
     "output_type": "display_data"
    }
   ],
   "source": [
    "### Create a gif with sample actions\n",
    "import imageio\n",
    "import time\n",
    "\n",
    "agent_params = {\n",
    "    'max_objects': 4,\n",
    "    'obs_dim': 4,\n",
    "}\n",
    "\n",
    "agent = SingleRLAgent(agent_params)\n",
    "display(agent.render(), display_id=\"demo\")\n",
    "\n",
    "images = []\n",
    "images.append(agent.render())\n",
    "\n",
    "n_steps = 5\n",
    "for i in range(n_steps):\n",
    "    action = n_steps-i-1 #random.randint(0, agent.action_dim-1)\n",
    "    agent.step(action)\n",
    "    agent.render(display_id=\"demo\")\n",
    "    time.sleep(1)\n",
    "    #images.append(agent.render())\n",
    "#imageio.mimsave('env_demo_2.gif', images, fps=0.5)"
   ]
  },
  {
   "cell_type": "code",
   "execution_count": 3,
   "id": "floppy-astronomy",
   "metadata": {},
   "outputs": [
    {
     "data": {
      "image/png": "[encoded data removed]",
      "text/plain": [
       "<PIL.Image.Image image mode=RGB size=990x500 at 0x7F47E1FB3A10>"
      ]
     },
     "execution_count": 3,
     "metadata": {},
     "output_type": "execute_result"
    }
   ],
   "source": [
    "### Create a gif with sample actions\n",
    "import imageio\n",
    "import time\n",
    "\n",
    "agent_params = {\n",
    "    'max_objects': 4,\n",
    "    'obs_dim': 4,\n",
    "}\n",
    "\n",
    "agent = MultiAgentEnvironment(agent_params)\n",
    "agent.render()\n",
    "\n",
    "# images = []\n",
    "# images.append(agent.render())\n",
    "\n",
    "# n_steps = 5\n",
    "# for i in range(n_steps):\n",
    "#     action = n_steps-i-1 #random.randint(0, agent.action_dim-1)\n",
    "#     agent.step(action)\n",
    "#     plt.show(agent.render(display_id=\"demo\"))\n",
    "#     time.sleep(1)\n",
    "#     images.append(agent.render())"
   ]
  },
  {
   "cell_type": "code",
   "execution_count": 11,
   "id": "double-grave",
   "metadata": {},
   "outputs": [
    {
     "data": {
      "image/png": "[encoded data removed]",
      "text/plain": [
       "<PIL.Image.Image image mode=RGB size=780x500 at 0x7FFA04443110>"
      ]
     },
     "metadata": {},
     "output_type": "display_data"
    },
    {
     "name": "stdout",
     "output_type": "stream",
     "text": [
      "Reward:  0\n",
      "Done:  True\n"
     ]
    }
   ],
   "source": [
    "_, reward, done, _ = agent.step(['left', 'left'])\n",
    "display(agent.render(), display_id='game')\n",
    "print(\"Reward: \", reward)\n",
    "print(\"Done: \", done)"
   ]
  },
  {
   "cell_type": "code",
   "execution_count": 9,
   "id": "decimal-bloom",
   "metadata": {},
   "outputs": [
    {
     "data": {
      "image/png": "[encoded data removed]",
      "text/plain": [
       "<PIL.Image.Image image mode=RGB size=990x500 at 0x7F9BA4F0E5D0>"
      ]
     },
     "metadata": {},
     "output_type": "display_data"
    },
    {
     "name": "stdout",
     "output_type": "stream",
     "text": [
      "Reward:  0\n",
      "Done:  False\n",
      "Reward:  0\n",
      "Done:  False\n",
      "Reward:  1\n",
      "Done:  True\n"
     ]
    }
   ],
   "source": [
    "action_list = [['left', 'left'], ['smaller', 'left'], ['left', 'larger']]\n",
    "display(agent.render(), display_id='multi_game')\n",
    "\n",
    "for action in action_list:\n",
    "    _, reward, done, _ = agent.step(action)\n",
    "    img = agent.render(display_id=\"multi_game\")\n",
    "    time.sleep(1)\n",
    "    print(\"Reward: \", reward)\n",
    "    print(\"Done: \", done)"
   ]
  },
  {
   "cell_type": "code",
   "execution_count": 14,
   "id": "middle-affairs",
   "metadata": {},
   "outputs": [],
   "source": [
    "action = ['mod_point', 'left']\n",
    "_, reward, done, _ = agent.step(action)\n",
    "img = agent.render(display_id=\"multi_game\")"
   ]
  },
  {
   "cell_type": "code",
   "execution_count": 48,
   "id": "russian-large",
   "metadata": {},
   "outputs": [
    {
     "name": "stdout",
     "output_type": "stream",
     "text": [
      "n_range:  [1 2 3]\n",
      "[1 2]\n"
     ]
    }
   ],
   "source": [
    "n_range = np.arange(1, 4+1)\n",
    "print(\"n_range: \", n_range)\n",
    "\n",
    "n_objects = np.random.choice(n_range, 2, replace=False)\n",
    "print(n_objects)"
   ]
  },
  {
   "cell_type": "code",
   "execution_count": 26,
   "id": "optical-frederick",
   "metadata": {},
   "outputs": [
    {
     "data": {
      "text/plain": [
       "3"
      ]
     },
     "execution_count": 26,
     "metadata": {},
     "output_type": "execute_result"
    }
   ],
   "source": [
    "env.max_episode_length"
   ]
  },
  {
   "cell_type": "code",
   "execution_count": 5,
   "id": "closed-translator",
   "metadata": {},
   "outputs": [],
   "source": []
  },
  {
   "cell_type": "code",
   "execution_count": 4,
   "id": "tracked-migration",
   "metadata": {},
   "outputs": [],
   "source": [
    "def funcy():\n",
    "    print(\"here we go\")\n",
    "\n",
    "def funcy2():\n",
    "    print(\"here we go 2\")\n",
    "    \n",
    "class ExperimentSetup():\n",
    "    def __init__(self, func_i):\n",
    "        \n",
    "        self.vari = 0\n",
    "        self.incry()\n",
    "        self.reward_funcy = func_i\n",
    "\n",
    "    def reward_function(self):\n",
    "        self.reward_funcy()\n",
    "    def env_update(self):\n",
    "        pass\n",
    "    def update_state(self):\n",
    "        state = np.stack([self.obs, self.fingerlayer.fingerlayer, self.ext_repr.externalrepresentation])\n",
    "        return state\n",
    "    \n",
    "    def incry(self):\n",
    "        self.vari += 1"
   ]
  },
  {
   "cell_type": "code",
   "execution_count": 3,
   "id": "leading-penny",
   "metadata": {},
   "outputs": [],
   "source": [
    "def iteraty():\n",
    "    l = 2\n",
    "    for i in range(10000000):\n",
    "        l += 1"
   ]
  },
  {
   "cell_type": "code",
   "execution_count": 4,
   "id": "behind-visit",
   "metadata": {},
   "outputs": [
    {
     "name": "stdout",
     "output_type": "stream",
     "text": [
      "         4 function calls in 0.392 seconds\n",
      "\n",
      "   Ordered by: standard name\n",
      "\n",
      "   ncalls  tottime  percall  cumtime  percall filename:lineno(function)\n",
      "        1    0.392    0.392    0.392    0.392 <ipython-input-3-ebc7f820c210>:1(iteraty)\n",
      "        1    0.000    0.000    0.392    0.392 <string>:1(<module>)\n",
      "        1    0.000    0.000    0.392    0.392 {built-in method builtins.exec}\n",
      "        1    0.000    0.000    0.000    0.000 {method 'disable' of '_lsprof.Profiler' objects}\n",
      "\n",
      "\n"
     ]
    }
   ],
   "source": [
    "import cProfile\n",
    "cProfile.run('iteraty()')"
   ]
  },
  {
   "cell_type": "code",
   "execution_count": 42,
   "id": "undefined-humor",
   "metadata": {},
   "outputs": [
    {
     "name": "stdout",
     "output_type": "stream",
     "text": [
      "3\n",
      "2\n",
      "2\n",
      "2\n",
      "2\n",
      "2\n"
     ]
    }
   ],
   "source": [
    "for n in range(6):\n",
    "    print(random.randint(2,3))"
   ]
  },
  {
   "cell_type": "code",
   "execution_count": 47,
   "id": "frequent-steering",
   "metadata": {},
   "outputs": [
    {
     "name": "stdout",
     "output_type": "stream",
     "text": [
      "19\n",
      "[2, 4, 5, 7, 10, 12, 14]\n"
     ]
    }
   ],
   "source": [
    "def cal_event_timesteps(n_objects):\n",
    "    n_objects = 7\n",
    "    big_timestep_range_from_n = 5\n",
    "    small_timestep_range = [1,2]\n",
    "    big_timestep_range = [2,3]\n",
    "    timestep_range = small_timestep_range\n",
    "\n",
    "    event_timesteps = []\n",
    "    t_n = 0\n",
    "\n",
    "    for n in range(1,n_objects+1):\n",
    "        if(n==big_timestep_range_from_n):\n",
    "            timestep_range = big_timestep_range\n",
    "        t_n += random.randint(timestep_range[0],timestep_range[1])\n",
    "        event_timesteps.append(t_n)\n",
    "        \n",
    "    return event_timesteps\n",
    "    \n",
    "n_objects = 8\n",
    "event_timesteps = cal_event_timesteps(n_objects)\n",
    "\n",
    "big_timestep_range_from_n = 5\n",
    "max_objects = 8\n",
    "\n",
    "max_time_length = min(big_timestep_range_from_n-1, max_objects)*2 \n",
    "                    #+ max(0,max_objects-big_timestep_range_from_n)*3\n",
    "if(max_objects >= big_timestep_range_from_n ):\n",
    "    max_time_length += (max_objects-big_timestep_range_from_n)*3\n",
    "    \n",
    "\n",
    "print(max_time_length)\n",
    "\n",
    "print(event_timesteps)"
   ]
  }
 ],
 "metadata": {
  "kernelspec": {
   "display_name": "Python 3",
   "language": "python",
   "name": "python3"
  },
  "language_info": {
   "codemirror_mode": {
    "name": "ipython",
    "version": 3
   },
   "file_extension": ".py",
   "mimetype": "text/x-python",
   "name": "python",
   "nbconvert_exporter": "python",
   "pygments_lexer": "ipython3",
   "version": "3.7.9"
  }
 },
 "nbformat": 4,
 "nbformat_minor": 5
}
